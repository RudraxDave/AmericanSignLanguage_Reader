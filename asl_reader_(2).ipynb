{
  "metadata": {
    "kernelspec": {
      "language": "python",
      "display_name": "Python 3",
      "name": "python3"
    },
    "language_info": {
      "pygments_lexer": "ipython3",
      "nbconvert_exporter": "python",
      "version": "3.6.4",
      "file_extension": ".py",
      "codemirror_mode": {
        "name": "ipython",
        "version": 3
      },
      "name": "python",
      "mimetype": "text/x-python"
    },
    "colab": {
      "name": "asl-reader (2).ipynb",
      "provenance": [],
      "include_colab_link": true
    },
    "accelerator": "GPU"
  },
  "nbformat_minor": 0,
  "nbformat": 4,
  "cells": [
    {
      "cell_type": "markdown",
      "metadata": {
        "id": "view-in-github",
        "colab_type": "text"
      },
      "source": [
        "<a href=\"https://colab.research.google.com/github/RudraxDave/AmericanSignLanguage_Reader/blob/main/asl_reader_(2).ipynb\" target=\"_parent\"><img src=\"https://colab.research.google.com/assets/colab-badge.svg\" alt=\"Open In Colab\"/></a>"
      ]
    },
    {
      "cell_type": "code",
      "execution_count": null,
      "metadata": {
        "id": "L_ALJ-za_PAW"
      },
      "outputs": [],
      "source": [
        "! pip install kaggle"
      ]
    },
    {
      "cell_type": "code",
      "execution_count": 1,
      "metadata": {
        "id": "COq63NQK_O90"
      },
      "outputs": [],
      "source": [
        "! mkdir ~/.kaggle"
      ]
    },
    {
      "cell_type": "code",
      "execution_count": 2,
      "metadata": {
        "id": "bEGSdRCj_O7V"
      },
      "outputs": [],
      "source": [
        "! cp kaggle.json ~/.kaggle/"
      ]
    },
    {
      "cell_type": "code",
      "execution_count": 3,
      "metadata": {
        "id": "3l0PJcJS_OzE"
      },
      "outputs": [],
      "source": [
        "! chmod 600 ~/.kaggle/kaggle.json"
      ]
    },
    {
      "cell_type": "code",
      "execution_count": 4,
      "metadata": {
        "colab": {
          "base_uri": "https://localhost:8080/"
        },
        "id": "qObcFizT_bcN",
        "outputId": "eb7aaa3f-1abb-43cd-c54d-80b5e764fd9f"
      },
      "outputs": [
        {
          "output_type": "stream",
          "name": "stdout",
          "text": [
            "Downloading asl-alphabet.zip to /content\n",
            " 99% 1.01G/1.03G [00:04<00:00, 249MB/s]\n",
            "100% 1.03G/1.03G [00:04<00:00, 221MB/s]\n"
          ]
        }
      ],
      "source": [
        "! kaggle datasets download grassknoted/asl-alphabet"
      ]
    },
    {
      "cell_type": "code",
      "execution_count": null,
      "metadata": {
        "id": "H-SvtnVf_be8"
      },
      "outputs": [],
      "source": [
        "! unzip /content/asl-alphabet.zip"
      ]
    },
    {
      "cell_type": "markdown",
      "source": [
        "Importing Libraries"
      ],
      "metadata": {
        "id": "A1kK6NYoBxs5"
      }
    },
    {
      "cell_type": "code",
      "source": [
        "#importing libraries\n",
        "\n",
        "import numpy as np\n",
        "import matplotlib.pyplot as plt\n",
        "import torch\n",
        "import torch.nn as nn\n",
        "from torchvision import datasets, transforms\n",
        "from torchvision.datasets import ImageFolder\n",
        "from torch.utils.data import random_split,DataLoader\n",
        "import torch.optim as optim\n",
        "\n"
      ],
      "metadata": {
        "execution": {
          "iopub.status.busy": "2022-05-11T04:09:48.688150Z",
          "iopub.execute_input": "2022-05-11T04:09:48.688442Z",
          "iopub.status.idle": "2022-05-11T04:09:48.694289Z",
          "shell.execute_reply.started": "2022-05-11T04:09:48.688386Z",
          "shell.execute_reply": "2022-05-11T04:09:48.693314Z"
        },
        "trusted": true,
        "id": "uZjYS9sLBxs7"
      },
      "execution_count": 6,
      "outputs": []
    },
    {
      "cell_type": "markdown",
      "source": [
        "Loading Datasets"
      ],
      "metadata": {
        "id": "IoeCnVnYBxs7"
      }
    },
    {
      "cell_type": "code",
      "source": [
        "# setting file path\n",
        "# train_filepath = \"../input/asl-alphabet/asl_alphabet_train/asl_alphabet_train\"\n",
        "# test_filepath = \"../input/asl-alphabet/asl_alphabet_test\"\n",
        "\n",
        "# setting file path\n",
        "\n",
        "train_filepath = \"/content/asl_alphabet_train/asl_alphabet_train\"\n",
        "test_filepath = \"/content/asl_alphabet_test\""
      ],
      "metadata": {
        "execution": {
          "iopub.status.busy": "2022-05-11T04:09:49.288929Z",
          "iopub.execute_input": "2022-05-11T04:09:49.289190Z",
          "iopub.status.idle": "2022-05-11T04:09:49.293210Z",
          "shell.execute_reply.started": "2022-05-11T04:09:49.289160Z",
          "shell.execute_reply": "2022-05-11T04:09:49.292422Z"
        },
        "trusted": true,
        "id": "gDso9BnJBxs8"
      },
      "execution_count": 7,
      "outputs": []
    },
    {
      "cell_type": "code",
      "source": [
        "# defining transforms\n",
        "train_transforms = transforms.Compose([\n",
        "    transforms.ToTensor()\n",
        "])"
      ],
      "metadata": {
        "execution": {
          "iopub.status.busy": "2022-05-11T04:09:49.556986Z",
          "iopub.execute_input": "2022-05-11T04:09:49.557197Z",
          "iopub.status.idle": "2022-05-11T04:09:49.560655Z",
          "shell.execute_reply.started": "2022-05-11T04:09:49.557170Z",
          "shell.execute_reply": "2022-05-11T04:09:49.559940Z"
        },
        "trusted": true,
        "id": "lrAwsoY4Bxs8"
      },
      "execution_count": 8,
      "outputs": []
    },
    {
      "cell_type": "code",
      "source": [
        "#Data Loading \n",
        "train_dataset = datasets.ImageFolder(train_filepath, transform=train_transforms)\n",
        "print(\"Train Dataset Info:\\n\")\n",
        "train_dataset"
      ],
      "metadata": {
        "execution": {
          "iopub.status.busy": "2022-05-11T04:09:49.791112Z",
          "iopub.execute_input": "2022-05-11T04:09:49.791907Z",
          "iopub.status.idle": "2022-05-11T04:10:04.884953Z",
          "shell.execute_reply.started": "2022-05-11T04:09:49.791865Z",
          "shell.execute_reply": "2022-05-11T04:10:04.884216Z"
        },
        "trusted": true,
        "colab": {
          "base_uri": "https://localhost:8080/"
        },
        "id": "RHmH7YwYBxs8",
        "outputId": "5409dab4-8741-4f51-cde8-d3cccaa07542"
      },
      "execution_count": 9,
      "outputs": [
        {
          "output_type": "stream",
          "name": "stdout",
          "text": [
            "Train Dataset Info:\n",
            "\n"
          ]
        },
        {
          "output_type": "execute_result",
          "data": {
            "text/plain": [
              "Dataset ImageFolder\n",
              "    Number of datapoints: 87000\n",
              "    Root location: /content/asl_alphabet_train/asl_alphabet_train\n",
              "    StandardTransform\n",
              "Transform: Compose(\n",
              "               ToTensor()\n",
              "           )"
            ]
          },
          "metadata": {},
          "execution_count": 9
        }
      ]
    },
    {
      "cell_type": "markdown",
      "source": [
        "#### DataLoader\n",
        "DataLoader takes a dataset (such as you would get from ImageFolder) and returns batches of images and the corresponding labels."
      ],
      "metadata": {
        "id": "rmpAdcpiBxs8"
      }
    },
    {
      "cell_type": "code",
      "source": [
        "\n",
        "train_dataloader = torch.utils.data.DataLoader(dataset=train_dataset,\n",
        "                                               batch_size=100, \n",
        "                                               shuffle=True,\n",
        "                                               num_workers=4)"
      ],
      "metadata": {
        "execution": {
          "iopub.status.busy": "2022-05-11T04:10:04.892917Z",
          "iopub.execute_input": "2022-05-11T04:10:04.893444Z",
          "iopub.status.idle": "2022-05-11T04:10:04.902481Z",
          "shell.execute_reply.started": "2022-05-11T04:10:04.893384Z",
          "shell.execute_reply": "2022-05-11T04:10:04.901511Z"
        },
        "trusted": true,
        "colab": {
          "base_uri": "https://localhost:8080/"
        },
        "id": "W7_vnrfTBxs9",
        "outputId": "cb579eda-50fd-4b7e-9ee6-8a75143199da"
      },
      "execution_count": 11,
      "outputs": [
        {
          "output_type": "stream",
          "name": "stderr",
          "text": [
            "/usr/local/lib/python3.7/dist-packages/torch/utils/data/dataloader.py:490: UserWarning: This DataLoader will create 4 worker processes in total. Our suggested max number of worker in current system is 2, which is smaller than what this DataLoader is going to create. Please be aware that excessive worker creation might get DataLoader running slow or even freeze, lower the worker number to avoid potential slowness/freeze if necessary.\n",
            "  cpuset_checked))\n"
          ]
        }
      ]
    },
    {
      "cell_type": "code",
      "source": [
        "train_label = train_dataloader.dataset.classes\n",
        "print(\"Labels :\\t\",train_label,\"\\nLength of the label list :\",len(train_label))"
      ],
      "metadata": {
        "execution": {
          "iopub.status.busy": "2022-05-11T04:10:04.904921Z",
          "iopub.execute_input": "2022-05-11T04:10:04.905391Z",
          "iopub.status.idle": "2022-05-11T04:10:04.917043Z",
          "shell.execute_reply.started": "2022-05-11T04:10:04.905355Z",
          "shell.execute_reply": "2022-05-11T04:10:04.916079Z"
        },
        "trusted": true,
        "colab": {
          "base_uri": "https://localhost:8080/"
        },
        "id": "6982AluFBxs9",
        "outputId": "34dbbf20-9ba4-4ffc-a363-c660cff29bd8"
      },
      "execution_count": 12,
      "outputs": [
        {
          "output_type": "stream",
          "name": "stdout",
          "text": [
            "Labels :\t ['A', 'B', 'C', 'D', 'E', 'F', 'G', 'H', 'I', 'J', 'K', 'L', 'M', 'N', 'O', 'P', 'Q', 'R', 'S', 'T', 'U', 'V', 'W', 'X', 'Y', 'Z', 'del', 'nothing', 'space'] \n",
            "Length of the label list : 29\n"
          ]
        }
      ]
    },
    {
      "cell_type": "code",
      "source": [
        "device = torch.device(\"cuda:0\" if torch.cuda.is_available() else \"cpu\")\n",
        "\n",
        "# data, labels = data.to(device), labels.to(device)"
      ],
      "metadata": {
        "execution": {
          "iopub.status.busy": "2022-05-11T04:10:04.925749Z",
          "iopub.execute_input": "2022-05-11T04:10:04.926072Z",
          "iopub.status.idle": "2022-05-11T04:10:04.935743Z",
          "shell.execute_reply.started": "2022-05-11T04:10:04.925964Z",
          "shell.execute_reply": "2022-05-11T04:10:04.934960Z"
        },
        "trusted": true,
        "id": "XUemM0J7Bxs-"
      },
      "execution_count": 15,
      "outputs": []
    },
    {
      "cell_type": "code",
      "source": [
        "class NN3(nn.Module):\n",
        "    def __init__(self):\n",
        "        super(NN3,self).__init__()\n",
        "        self.NN3 = nn.Sequential(\n",
        "            nn.Conv2d(3,64,kernel_size=3,stride=1,padding='same'),\n",
        "            nn.BatchNorm2d(64),\n",
        "            nn.ReLU(),\n",
        "            nn.MaxPool2d((2,2),stride=2),\n",
        "            \n",
        "            nn.Conv2d(64,128,kernel_size=3,stride=1,padding='same'),\n",
        "            nn.BatchNorm2d(128),\n",
        "            nn.ReLU(),\n",
        "            nn.MaxPool2d((2,2),stride=2),\n",
        "            \n",
        "            nn.Conv2d(128,256,kernel_size=3,stride=1,padding='same'),\n",
        "            nn.BatchNorm2d(256),\n",
        "            nn.ReLU(),\n",
        "            nn.MaxPool2d((2,2),stride=2)\n",
        "        )\n",
        "\n",
        "        self.predict = nn.Sequential(\n",
        "            nn.Linear(256*25*25,200),\n",
        "            nn.Dropout(0.5),\n",
        "            nn.BatchNorm1d(200),\n",
        "            nn.Dropout(0.2),\n",
        "            nn.Linear(200,29),\n",
        "            nn.Softmax(dim=1)\n",
        "        )\n",
        "    \n",
        "    def forward(self,x):\n",
        "        x = self.NN3(x)\n",
        "        x = x.view(-1,256*25*25)\n",
        "        return self.predict(x) "
      ],
      "metadata": {
        "id": "Md4g0F3KBxtA"
      },
      "execution_count": 16,
      "outputs": []
    },
    {
      "cell_type": "code",
      "source": [
        "model3 = NN3()\n",
        "\n",
        "if torch.cuda.is_available():\n",
        "    model3.cuda()\n",
        "    \n",
        "model3"
      ],
      "metadata": {
        "colab": {
          "base_uri": "https://localhost:8080/"
        },
        "id": "-oI76J77DMUe",
        "outputId": "dc375425-804d-4685-8f61-0fbaaea99e6d"
      },
      "execution_count": 17,
      "outputs": [
        {
          "output_type": "execute_result",
          "data": {
            "text/plain": [
              "NN3(\n",
              "  (NN3): Sequential(\n",
              "    (0): Conv2d(3, 64, kernel_size=(3, 3), stride=(1, 1), padding=same)\n",
              "    (1): BatchNorm2d(64, eps=1e-05, momentum=0.1, affine=True, track_running_stats=True)\n",
              "    (2): ReLU()\n",
              "    (3): MaxPool2d(kernel_size=(2, 2), stride=2, padding=0, dilation=1, ceil_mode=False)\n",
              "    (4): Conv2d(64, 128, kernel_size=(3, 3), stride=(1, 1), padding=same)\n",
              "    (5): BatchNorm2d(128, eps=1e-05, momentum=0.1, affine=True, track_running_stats=True)\n",
              "    (6): ReLU()\n",
              "    (7): MaxPool2d(kernel_size=(2, 2), stride=2, padding=0, dilation=1, ceil_mode=False)\n",
              "    (8): Conv2d(128, 256, kernel_size=(3, 3), stride=(1, 1), padding=same)\n",
              "    (9): BatchNorm2d(256, eps=1e-05, momentum=0.1, affine=True, track_running_stats=True)\n",
              "    (10): ReLU()\n",
              "    (11): MaxPool2d(kernel_size=(2, 2), stride=2, padding=0, dilation=1, ceil_mode=False)\n",
              "  )\n",
              "  (predict): Sequential(\n",
              "    (0): Linear(in_features=160000, out_features=200, bias=True)\n",
              "    (1): Dropout(p=0.5, inplace=False)\n",
              "    (2): BatchNorm1d(200, eps=1e-05, momentum=0.1, affine=True, track_running_stats=True)\n",
              "    (3): Dropout(p=0.2, inplace=False)\n",
              "    (4): Linear(in_features=200, out_features=29, bias=True)\n",
              "    (5): Softmax(dim=1)\n",
              "  )\n",
              ")"
            ]
          },
          "metadata": {},
          "execution_count": 17
        }
      ]
    },
    {
      "cell_type": "code",
      "source": [
        "criterion = nn.CrossEntropyLoss()\n",
        "optimizer = optim.Adam(model3.parameters(), lr= 0.001)"
      ],
      "metadata": {
        "id": "gBvQxF0SDMWt"
      },
      "execution_count": 18,
      "outputs": []
    },
    {
      "cell_type": "code",
      "source": [
        "num_epochs = 5\n",
        "for epoch in range(num_epochs):\n",
        "    correct = 0\n",
        "    for batch_idx , (data,labels) in enumerate(train_dataloader):\n",
        "        data = data.to(device=device)\n",
        "        labels = labels.to(device= device)\n",
        "        data, labels = data.cuda(), labels.cuda()\n",
        "        \n",
        "        #forward\n",
        "        scores = model3(data)\n",
        "        loss = criterion(scores, labels)\n",
        "\n",
        "        #backprop\n",
        "        optimizer.zero_grad()\n",
        "        loss.backward()\n",
        "\n",
        "        #gradient descent\n",
        "        optimizer.step()\n",
        "\n",
        "        #performance\n",
        "        prediction = torch.max(scores,1)[1]\n",
        "    \n",
        "        correct += (prediction == labels).cpu().sum().numpy()\n",
        "\n",
        "    print(\"Epoch :\",epoch,\"\\tLoss :\",loss.data,\"\\tAccuracy :\",(correct/len(train_dataloader.dataset))*100)"
      ],
      "metadata": {
        "colab": {
          "base_uri": "https://localhost:8080/"
        },
        "id": "4cnaDWzaDMZb",
        "outputId": "f4c01994-4853-4f97-b662-efbfa8c826fd"
      },
      "execution_count": 19,
      "outputs": [
        {
          "output_type": "stream",
          "name": "stderr",
          "text": [
            "/usr/local/lib/python3.7/dist-packages/torch/utils/data/dataloader.py:490: UserWarning: This DataLoader will create 4 worker processes in total. Our suggested max number of worker in current system is 2, which is smaller than what this DataLoader is going to create. Please be aware that excessive worker creation might get DataLoader running slow or even freeze, lower the worker number to avoid potential slowness/freeze if necessary.\n",
            "  cpuset_checked))\n"
          ]
        },
        {
          "output_type": "stream",
          "name": "stdout",
          "text": [
            "Epoch : 0 \tLoss : tensor(2.5452, device='cuda:0') \tAccuracy : 64.40919540229885\n",
            "Epoch : 1 \tLoss : tensor(2.4488, device='cuda:0') \tAccuracy : 94.60689655172413\n",
            "Epoch : 2 \tLoss : tensor(2.4361, device='cuda:0') \tAccuracy : 98.16091954022988\n",
            "Epoch : 3 \tLoss : tensor(2.4333, device='cuda:0') \tAccuracy : 99.02873563218391\n",
            "Epoch : 4 \tLoss : tensor(2.4280, device='cuda:0') \tAccuracy : 99.25402298850575\n"
          ]
        }
      ]
    },
    {
      "cell_type": "code",
      "source": [
        ""
      ],
      "metadata": {
        "id": "Ck_2pAOoDMbg"
      },
      "execution_count": null,
      "outputs": []
    }
  ]
}